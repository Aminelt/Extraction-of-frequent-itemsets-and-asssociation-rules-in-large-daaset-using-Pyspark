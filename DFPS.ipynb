{
  "cells": [
    {
      "cell_type": "code",
      "execution_count": 1,
      "metadata": {
        "id": "ImklQbGeZpxH"
      },
      "outputs": [],
      "source": [
        "# Let's import the libraries we will need\n",
        "import pandas as pd\n",
        "import numpy as np\n",
        "import matplotlib.pyplot as plt\n",
        "%matplotlib inline\n",
        "import pyspark\n",
        "from pyspark.sql import *\n",
        "from pyspark.sql.functions import *\n",
        "from pyspark import SparkContext, SparkConf\n",
        "from pyspark.sql import functions as F\n",
        "from pyspark.ml.fpm import FPGrowth\n",
        "from pyspark.sql import functions as sf"
      ]
    },
    {
      "cell_type": "code",
      "execution_count": 2,
      "metadata": {},
      "outputs": [
        {
          "name": "stderr",
          "output_type": "stream",
          "text": [
            "c:\\Users\\Amine\\anaconda3\\lib\\site-packages\\pyspark\\sql\\context.py:77: FutureWarning: Deprecated in 3.0.0. Use SparkSession.builder.getOrCreate() instead.\n",
            "  warnings.warn(\n"
          ]
        },
        {
          "data": {
            "text/html": [
              "\n",
              "            <div>\n",
              "                <p><b>SparkSession - in-memory</b></p>\n",
              "                \n",
              "        <div>\n",
              "            <p><b>SparkContext</b></p>\n",
              "\n",
              "            <p><a href=\"http://DESKTOP-T03938P:4041\">Spark UI</a></p>\n",
              "\n",
              "            <dl>\n",
              "              <dt>Version</dt>\n",
              "                <dd><code>v3.1.3</code></dd>\n",
              "              <dt>Master</dt>\n",
              "                <dd><code>local[*]</code></dd>\n",
              "              <dt>AppName</dt>\n",
              "                <dd><code>pyspark-shell</code></dd>\n",
              "            </dl>\n",
              "        </div>\n",
              "        \n",
              "            </div>\n",
              "        "
            ],
            "text/plain": [
              "<pyspark.sql.session.SparkSession at 0x1c000b77cd0>"
            ]
          },
          "execution_count": 2,
          "metadata": {},
          "output_type": "execute_result"
        }
      ],
      "source": [
        "conf = pyspark.SparkConf()\n",
        "sc = pyspark.SparkContext.getOrCreate()\n",
        "sqlcontext = SQLContext(sc)\n",
        "spark = SparkSession.builder.appName('Practice').getOrCreate()\n",
        "spark "
      ]
    },
    {
      "cell_type": "code",
      "execution_count": 3,
      "metadata": {
        "colab": {
          "base_uri": "https://localhost:8080/"
        },
        "id": "AuKwPLIV9BIl",
        "outputId": "fdb13657-ca50-49af-8a06-bfaec1db33a0"
      },
      "outputs": [
        {
          "name": "stdout",
          "output_type": "stream",
          "text": [
            "+---+------------+-------+-------------------+--------------------+------------------+-----------+----------+--------------------+-----------------+-----------+-----------+--------------------+-----------------+--------------+-----------------+-----------------+-----------------+-------------+------+-------+--------------------+-----------------+\n",
            "|_c0|Diabetes_012| HighBP|           HighChol|           CholCheck|               BMI|     Smoker|    Stroke|HeartDiseaseorAttack|     PhysActivity|     Fruits|    Veggies|   HvyAlcoholConsump|    AnyHealthcare|   NoDocbcCost|          GenHlth|         MentHlth|         PhysHlth|     DiffWalk|   Sex|    Age|           Education|           Income|\n",
            "+---+------------+-------+-------------------+--------------------+------------------+-----------+----------+--------------------+-----------------+-----------+-----------+--------------------+-----------------+--------------+-----------------+-----------------+-----------------+-------------+------+-------+--------------------+-----------------+\n",
            "|  8|    Diabetes|High BP|   High Cholesterol|Cholesterol Check...|  Obeisity class I|Yes Smoking| No Stroke|   Yes heart disease| No Phy Activity |Yes Fruits |Yes Veggies|No HvyAlcoholConsump|Yes AnyHealthcare|No NoDocbcCost|     Poor GenHlth|Excelent MentHlth|Excelent PhytHlth|Yes DiffWalk |Female|[60-64]|Undergraduate Degree|Less Than $10,000|\n",
            "| 10|    Diabetes|No High|No High Cholesterol|Cholesterol Check...|        OverWeight|Yes Smoking| No Stroke|No heart disease ...|Yes Phy Activity |Yes Fruits |Yes Veggies|No HvyAlcoholConsump|Yes AnyHealthcare|No NoDocbcCost|     Good GenHlth|    Poor MentHlth|    Poor PhysHlth| No DiffWalk |  Male|[80-99]|            Magister|  $75,000 or More|\n",
            "| 13|    Diabetes|High BP|   High Cholesterol|Cholesterol Check...|        OverWeight| No Smoking| No Stroke|No heart disease ...| No Phy Activity | No Fruits |Yes Veggies|No HvyAlcoholConsump|Yes AnyHealthcare|No NoDocbcCost|     Fair GenHlth|    Poor MentHlth|    Poor PhysHlth|Yes DiffWalk |Female|[70-74]|  Senior High School|Less Than $35,000|\n",
            "| 17|    Diabetes|No High|No High Cholesterol|Cholesterol Check...|     Normal weight|Yes Smoking| No Stroke|No heart disease ...|Yes Phy Activity | No Fruits | No Veggies|No HvyAlcoholConsump|Yes AnyHealthcare|No NoDocbcCost|Very Good GenHlth|    Poor MentHlth|    Poor PhysHlth| No DiffWalk |  Male|[50-54]|Undergraduate Degree|Less Than $35,000|\n",
            "| 23|    Diabetes|High BP|No High Cholesterol|Cholesterol Check...|        OverWeight| No Smoking| No Stroke|No heart disease ...|Yes Phy Activity |Yes Fruits |Yes Veggies|No HvyAlcoholConsump|Yes AnyHealthcare|No NoDocbcCost|Excellent GenHlth|    Poor MentHlth|    Poor PhysHlth| No DiffWalk |Female|[80-99]|Undergraduate Degree|Less Than $10,000|\n",
            "| 26|    Diabetes|High BP|   High Cholesterol|Cholesterol Check...| Obeisity class II|Yes Smoking|Yes Stroke|   Yes heart disease| No Phy Activity | No Fruits |Yes Veggies|No HvyAlcoholConsump|Yes AnyHealthcare|No NoDocbcCost|     Poor GenHlth|    Poor MentHlth|    Poor PhysHlth|Yes DiffWalk |  Male|[65-69]|            Magister|Less Than $35,000|\n",
            "| 27|    Diabetes|High BP|   High Cholesterol|Cholesterol Check...|        OverWeight|Yes Smoking| No Stroke|   Yes heart disease| No Phy Activity | No Fruits |Yes Veggies|No HvyAlcoholConsump|Yes AnyHealthcare|No NoDocbcCost|     Fair GenHlth|    Poor MentHlth|    Poor PhysHlth| No DiffWalk |  Male|[75-79]|          Elementary|Less Than $10,000|\n",
            "| 28|    Diabetes|High BP|   High Cholesterol|Cholesterol Check...|        OverWeight|Yes Smoking| No Stroke|No heart disease ...| No Phy Activity |Yes Fruits |Yes Veggies|No HvyAlcoholConsump|Yes AnyHealthcare|No NoDocbcCost|     Fair GenHlth|Excelent MentHlth|Excelent PhytHlth|Yes DiffWalk |Female|[55-59]|  Senior High School|Less Than $35,000|\n",
            "| 30|    Diabetes|High BP|   High Cholesterol|Cholesterol Check...|  Obeisity class I|Yes Smoking|Yes Stroke|No heart disease ...|Yes Phy Activity | No Fruits | No Veggies|No HvyAlcoholConsump|Yes AnyHealthcare|No NoDocbcCost|     Fair GenHlth|    Poor MentHlth|    Poor PhysHlth|Yes DiffWalk |Female|[60-64]|Undergraduate Degree|Less Than $10,000|\n",
            "| 34|    Diabetes|High BP|   High Cholesterol|Cholesterol Check...|     Normal weight|Yes Smoking| No Stroke|No heart disease ...| No Phy Activity | No Fruits | No Veggies|No HvyAlcoholConsump|Yes AnyHealthcare|No NoDocbcCost|Very Good GenHlth|    Poor MentHlth|    Poor PhysHlth| No DiffWalk |Female|[75-79]|  Junior High School|Less Than $10,000|\n",
            "+---+------------+-------+-------------------+--------------------+------------------+-----------+----------+--------------------+-----------------+-----------+-----------+--------------------+-----------------+--------------+-----------------+-----------------+-----------------+-------------+------+-------+--------------------+-----------------+\n",
            "only showing top 10 rows\n",
            "\n"
          ]
        }
      ],
      "source": [
        "# Read the files \n",
        "sparkdata = spark.read.csv('ClassDiabetes.csv', header='true')\n",
        "sparkdata.show(10)"
      ]
    },
    {
      "cell_type": "code",
      "execution_count": 4,
      "metadata": {
        "id": "5xx8purWPjO_"
      },
      "outputs": [],
      "source": [
        "# select the columns for frequent items\n",
        "sparkdata = sparkdata.select( '_c0' ,\n",
        "        concat(lit(\"[\"), \n",
        "            col(\"Diabetes_012\"), lit(\",\"), \n",
        "            col(\"HighBP\"), lit(\",\"), \n",
        "            col(\"HighChol\"), lit(\",\"), \n",
        "            col(\"CholCheck\"), lit(\",\"),\n",
        "            col(\"BMI\"), lit(\",\"),\n",
        "            col(\"Smoker\"), lit(\",\"),\n",
        "            col(\"Stroke\"), lit(\",\"),\n",
        "            col(\"HeartDiseaseorAttack\"), lit(\",\"),\n",
        "            col(\"PhysActivity\"), lit(\",\"),\n",
        "            col(\"Fruits\"), lit(\",\"),\n",
        "            col(\"Veggies\"), lit(\",\"),\n",
        "            col(\"HvyAlcoholConsump\"), lit(\",\"),\n",
        "            col(\"AnyHealthcare\"), lit(\",\"),\n",
        "            col(\"NoDocbcCost\"), lit(\",\"),\n",
        "            col(\"GenHlth\"), lit(\",\"),\n",
        "            col(\"MentHlth\"), lit(\",\"),\n",
        "            col(\"PhysHlth\"), lit(\",\"),\n",
        "            col(\"DiffWalk\"), lit(\"]\")\n",
        "        ).alias('item')  \n",
        "    )"
      ]
    },
    {
      "cell_type": "code",
      "execution_count": 5,
      "metadata": {
        "colab": {
          "base_uri": "https://localhost:8080/"
        },
        "id": "i-sLVT6FT4V-",
        "outputId": "5c70880e-bc0f-440f-aecb-146ef8f87e5f"
      },
      "outputs": [
        {
          "name": "stdout",
          "output_type": "stream",
          "text": [
            "root\n",
            " |-- items: array (nullable = true)\n",
            " |    |-- element: string (containsNull = true)\n",
            "\n"
          ]
        }
      ],
      "source": [
        "# convert the item colum from string to array\n",
        "data = sparkdata.select(split(col(\"item\"),\",\").alias(\"items\")).drop('item')\n",
        "data.printSchema()"
      ]
    },
    {
      "cell_type": "markdown",
      "metadata": {
        "id": "_Ah5K6F6ahSv"
      },
      "source": [
        "**DFPS**"
      ]
    },
    {
      "cell_type": "code",
      "execution_count": 6,
      "metadata": {
        "id": "KkaKzFUVTUGg"
      },
      "outputs": [],
      "source": [
        "import time\n",
        "start_time = time.time()\n",
        "# set the parameters for model\n",
        "fp = FPGrowth(minSupport=0.2, minConfidence=0.7)\n",
        "# fit the fp growth model\n",
        "model = fp.fit(data)"
      ]
    },
    {
      "cell_type": "code",
      "execution_count": 7,
      "metadata": {
        "colab": {
          "base_uri": "https://localhost:8080/"
        },
        "id": "YJVgPorAdcTL",
        "outputId": "75f9ac0a-bfa6-47e4-b701-a5e7ecbdd048"
      },
      "outputs": [
        {
          "name": "stderr",
          "output_type": "stream",
          "text": [
            "c:\\Users\\Amine\\anaconda3\\lib\\site-packages\\pyspark\\sql\\context.py:125: FutureWarning: Deprecated in 3.0.0. Use SparkSession.builder.getOrCreate() instead.\n",
            "  warnings.warn(\n"
          ]
        },
        {
          "name": "stdout",
          "output_type": "stream",
          "text": [
            "+--------------------+-----+\n",
            "|               items| freq|\n",
            "+--------------------+-----+\n",
            "|      [Good GenHlth]|13457|\n",
            "|[Good GenHlth, Ye...|10308|\n",
            "|[Good GenHlth, Ye...|10043|\n",
            "|[Good GenHlth, Ye...| 9982|\n",
            "|[Good GenHlth, Ye...| 9982|\n",
            "|[Good GenHlth, Ye...|10043|\n",
            "|[Good GenHlth, Ye...| 9538|\n",
            "|[Good GenHlth, Ye...| 9298|\n",
            "|[Good GenHlth, Ye...| 9252|\n",
            "|[Good GenHlth, Ye...| 9252|\n",
            "|[Good GenHlth, Ye...| 9298|\n",
            "|[Good GenHlth, Ye...| 8947|\n",
            "|[Good GenHlth, Ye...| 8714|\n",
            "|[Good GenHlth, Ye...| 8671|\n",
            "|[Good GenHlth, Ye...| 8671|\n",
            "|[Good GenHlth, Ye...| 8714|\n",
            "|[Good GenHlth, Ye...| 8902|\n",
            "|[Good GenHlth, Ye...| 8902|\n",
            "|[Good GenHlth, Ye...| 8751|\n",
            "|[Good GenHlth, Ye...| 8528|\n",
            "+--------------------+-----+\n",
            "only showing top 20 rows\n",
            "\n",
            "+--------------------+--------------------+------------------+------------------+-------------------+\n",
            "|          antecedent|          consequent|        confidence|              lift|            support|\n",
            "+--------------------+--------------------+------------------+------------------+-------------------+\n",
            "|[No Fruits , Poor...|[No heart disease...|0.7821628056038824|1.0064921554854678| 0.2416680812538901|\n",
            "|[No Fruits , Poor...|     [Poor PhysHlth]|0.7570735280651955|1.0990890427154227|  0.233916143269394|\n",
            "|[No Fruits , Poor...|           [High BP]|0.7500228916765864|0.9964783163885363|0.23173767894528377|\n",
            "|[No Fruits , Poor...|    [No NoDocbcCost]|0.9244574672649025|1.0339157586996977| 0.2856334521586601|\n",
            "|[No Fruits , Poor...|         [No Stroke]| 0.915758630162073|1.0090530750579412|0.28294573643410853|\n",
            "|[No Fruits , Poor...|[Cholesterol Chec...|0.9942312975002289|1.0010568136004299| 0.3071917614440106|\n",
            "|[No Fruits , Poor...|         [[Diabetes]|               1.0|               1.0|0.30897414134555534|\n",
            "|[No Smoking, High...|     [Poor PhysHlth]|0.7859838274932615|1.1410598581581641|0.20624681717874724|\n",
            "|[No Smoking, High...|       [Yes Veggies]|0.7678706199460916|1.0151539098075462| 0.2014938041079613|\n",
            "|[No Smoking, High...|[No heart disease...| 0.834932614555256|1.0743966868381418|0.21909126916765687|\n",
            "|[No Smoking, High...|    [No NoDocbcCost]|0.9284097035040432| 1.038335950514299|0.24362021162224862|\n",
            "|[No Smoking, High...|         [[Diabetes]|               1.0|               1.0| 0.2624059299496407|\n",
            "|[Yes Fruits , Hig...|         [No Stroke]|0.9349161351287503|1.0301622829434756|0.22392915747184972|\n",
            "|[Yes Fruits , Hig...|[Cholesterol Chec...|0.9969288920387432|1.0037729274462732| 0.2387823233180558|\n",
            "|[Yes Fruits , Hig...|     [Poor MentHlth]|0.8653437278525868| 1.057329901986917|0.20726531997962994|\n",
            "|[Yes Veggies, Poo...|           [High BP]|0.7309134380264087|0.9710895497098723| 0.3805522548520342|\n",
            "|[Yes Veggies, Poo...| [Yes Phy Activity ]|0.7041786665217628| 1.116790018704995|0.36663271657330393|\n",
            "|[Yes Veggies, Poo...|     [No DiffWalk ]]|0.7237950334184644|   1.1511027784571| 0.3768460363265999|\n",
            "|[Yes Veggies, Poo...|     [Poor PhysHlth]|0.7969896212574037| 1.157037628987727| 0.4149550161262944|\n",
            "|[Yes Veggies, Poo...|[No heart disease...|0.8134543280986796|1.0467582889535434| 0.4235274147003904|\n",
            "+--------------------+--------------------+------------------+------------------+-------------------+\n",
            "only showing top 20 rows\n",
            "\n"
          ]
        }
      ],
      "source": [
        "# Display frequent itemsets.\n",
        "model.freqItemsets.show()\n",
        "items = model.freqItemsets\n",
        "# Display generated association rules.\n",
        "model.associationRules.show()\n",
        "rules = model.associationRules"
      ]
    },
    {
      "cell_type": "code",
      "execution_count": 8,
      "metadata": {
        "colab": {
          "base_uri": "https://localhost:8080/",
          "height": 424
        },
        "id": "p9D8ZbS_aLxE",
        "outputId": "89f13cb7-3260-4a5e-afcb-5b2054fe66a4"
      },
      "outputs": [
        {
          "data": {
            "text/html": [
              "<div>\n",
              "<style scoped>\n",
              "    .dataframe tbody tr th:only-of-type {\n",
              "        vertical-align: middle;\n",
              "    }\n",
              "\n",
              "    .dataframe tbody tr th {\n",
              "        vertical-align: top;\n",
              "    }\n",
              "\n",
              "    .dataframe thead th {\n",
              "        text-align: right;\n",
              "    }\n",
              "</style>\n",
              "<table border=\"1\" class=\"dataframe\">\n",
              "  <thead>\n",
              "    <tr style=\"text-align: right;\">\n",
              "      <th></th>\n",
              "      <th>items</th>\n",
              "      <th>freq</th>\n",
              "    </tr>\n",
              "  </thead>\n",
              "  <tbody>\n",
              "    <tr>\n",
              "      <th>0</th>\n",
              "      <td>[Good GenHlth]</td>\n",
              "      <td>13457</td>\n",
              "    </tr>\n",
              "    <tr>\n",
              "      <th>1</th>\n",
              "      <td>[Good GenHlth, Yes Veggies]</td>\n",
              "      <td>10308</td>\n",
              "    </tr>\n",
              "    <tr>\n",
              "      <th>2</th>\n",
              "      <td>[Good GenHlth, Yes Veggies, No HvyAlcoholConsump]</td>\n",
              "      <td>10043</td>\n",
              "    </tr>\n",
              "    <tr>\n",
              "      <th>3</th>\n",
              "      <td>[Good GenHlth, Yes Veggies, No HvyAlcoholConsu...</td>\n",
              "      <td>9982</td>\n",
              "    </tr>\n",
              "    <tr>\n",
              "      <th>4</th>\n",
              "      <td>[Good GenHlth, Yes Veggies, No HvyAlcoholConsu...</td>\n",
              "      <td>9982</td>\n",
              "    </tr>\n",
              "    <tr>\n",
              "      <th>...</th>\n",
              "      <td>...</td>\n",
              "      <td>...</td>\n",
              "    </tr>\n",
              "    <tr>\n",
              "      <th>30004</th>\n",
              "      <td>[Yes Fruits , Poor MentHlth, Yes AnyHealthcare...</td>\n",
              "      <td>16608</td>\n",
              "    </tr>\n",
              "    <tr>\n",
              "      <th>30005</th>\n",
              "      <td>[Yes Fruits , Poor MentHlth, Yes AnyHealthcare...</td>\n",
              "      <td>16608</td>\n",
              "    </tr>\n",
              "    <tr>\n",
              "      <th>30006</th>\n",
              "      <td>[Yes Fruits , Poor MentHlth, Yes AnyHealthcare...</td>\n",
              "      <td>16681</td>\n",
              "    </tr>\n",
              "    <tr>\n",
              "      <th>30007</th>\n",
              "      <td>[Yes Fruits , Poor MentHlth, [Diabetes]</td>\n",
              "      <td>17247</td>\n",
              "    </tr>\n",
              "    <tr>\n",
              "      <th>30008</th>\n",
              "      <td>[Yes Fruits , [Diabetes]</td>\n",
              "      <td>20693</td>\n",
              "    </tr>\n",
              "  </tbody>\n",
              "</table>\n",
              "<p>30009 rows × 2 columns</p>\n",
              "</div>"
            ],
            "text/plain": [
              "                                                   items   freq\n",
              "0                                         [Good GenHlth]  13457\n",
              "1                            [Good GenHlth, Yes Veggies]  10308\n",
              "2      [Good GenHlth, Yes Veggies, No HvyAlcoholConsump]  10043\n",
              "3      [Good GenHlth, Yes Veggies, No HvyAlcoholConsu...   9982\n",
              "4      [Good GenHlth, Yes Veggies, No HvyAlcoholConsu...   9982\n",
              "...                                                  ...    ...\n",
              "30004  [Yes Fruits , Poor MentHlth, Yes AnyHealthcare...  16608\n",
              "30005  [Yes Fruits , Poor MentHlth, Yes AnyHealthcare...  16608\n",
              "30006  [Yes Fruits , Poor MentHlth, Yes AnyHealthcare...  16681\n",
              "30007            [Yes Fruits , Poor MentHlth, [Diabetes]  17247\n",
              "30008                           [Yes Fruits , [Diabetes]  20693\n",
              "\n",
              "[30009 rows x 2 columns]"
            ]
          },
          "execution_count": 8,
          "metadata": {},
          "output_type": "execute_result"
        }
      ],
      "source": [
        "# Convert the Spark DataFrame  to a Pandas DataFrame\n",
        "result_pdf = items.select(\"*\").toPandas()\n",
        "result_pdf"
      ]
    },
    {
      "cell_type": "code",
      "execution_count": 9,
      "metadata": {
        "id": "7hgN3zoQaS5k"
      },
      "outputs": [],
      "source": [
        "# save the results \n",
        "result_pdf.to_csv('frequentitemsClassDiabete.csv')"
      ]
    },
    {
      "cell_type": "code",
      "execution_count": null,
      "metadata": {
        "colab": {
          "base_uri": "https://localhost:8080/",
          "height": 206
        },
        "id": "R18JqUmLaS8j",
        "outputId": "5bd41aac-e749-4a50-8633-b6daefc7a20a"
      },
      "outputs": [],
      "source": [
        "# Convert the Spark DataFrame  to a Pandas DataFrame\n",
        "rules_pdf = rules.select(\"*\").toPandas()\n",
        "# save the results \n",
        "rules_pdf.to_csv('ConseConfLiftClassDiabete.csv')\n",
        "rules_pdf.head()"
      ]
    },
    {
      "cell_type": "code",
      "execution_count": 19,
      "metadata": {
        "colab": {
          "base_uri": "https://localhost:8080/"
        },
        "id": "28HBgt7ksuYl",
        "outputId": "89caab69-8640-4187-9c1a-c8de7bf50116"
      },
      "outputs": [
        {
          "name": "stdout",
          "output_type": "stream",
          "text": [
            "Time:  218.6265778541565\n"
          ]
        }
      ],
      "source": [
        "end_time = time.time()\n",
        "total_time = end_time - start_time\n",
        "print(\"Time: \", total_time)"
      ]
    },
    {
      "cell_type": "code",
      "execution_count": 8,
      "metadata": {},
      "outputs": [
        {
          "data": {
            "image/png": "[encoded data removed]",
            "text/plain": [
              "<Figure size 432x288 with 1 Axes>"
            ]
          },
          "metadata": {
            "needs_background": "light"
          },
          "output_type": "display_data"
        }
      ],
      "source": [
        "import numpy as np\n",
        "import matplotlib.pyplot as plt\n",
        "\n",
        "x = np.array([1,2,3,4])\n",
        "yyafim = np.array([329.20,295.05,259.75,235.22])\n",
        "\n",
        "yrapriori = np.array([324.78,289.94,240.94,204.28])\n",
        "ydfps = np.array([268.53,180.10,163.73,150.60])\n",
        "plt.plot(x, yyafim, \"o-\", label=\"YAFIM -\")\n",
        "plt.plot(x, yrapriori, \"o--\", label=\"R-Apriori --\")\n",
        "plt.plot(x, ydfps, \"o:\", label=\"DFPS \")\n",
        "\n",
        "plt.legend()\n",
        "\n",
        "plt.show()"
      ]
    },
    {
      "cell_type": "code",
      "execution_count": 7,
      "metadata": {},
      "outputs": [
        {
          "data": {
            "image/png": "[encoded data removed]",
            "text/plain": [
              "<Figure size 432x288 with 1 Axes>"
            ]
          },
          "metadata": {
            "needs_background": "light"
          },
          "output_type": "display_data"
        }
      ],
      "source": [
        "import numpy as np\n",
        "import matplotlib.pyplot as plt\n",
        "\n",
        "x = np.array([1,2,3,4])\n",
        "yfpgrowth  = np.array([425.14,314.09,267.80,257.68])\n",
        "\n",
        "yapriori = np.array([776.54,650.55,542.24,489.93])\n",
        "plt.plot(x, yfpgrowth , \"o-\", label=\"FPgrowth -\")\n",
        "plt.plot(x,yapriori, \"o--\", label=\"Apriori --\")\n",
        "\n",
        "\n",
        "plt.legend()\n",
        "\n",
        "plt.show()"
      ]
    }
  ],
  "metadata": {
    "accelerator": "TPU",
    "colab": {
      "collapsed_sections": [],
      "name": "FPGrowth.ipynb",
      "provenance": []
    },
    "interpreter": {
      "hash": "7a7bc949ac09e1311def83ae0b9d9fa997b438448c6e4b9a59dc0c484a51e208"
    },
    "kernelspec": {
      "display_name": "Python 3.8.5 ('base')",
      "language": "python",
      "name": "python3"
    },
    "language_info": {
      "codemirror_mode": {
        "name": "ipython",
        "version": 3
      },
      "file_extension": ".py",
      "mimetype": "text/x-python",
      "name": "python",
      "nbconvert_exporter": "python",
      "pygments_lexer": "ipython3",
      "version": "3.8.5"
    }
  },
  "nbformat": 4,
  "nbformat_minor": 0
}
