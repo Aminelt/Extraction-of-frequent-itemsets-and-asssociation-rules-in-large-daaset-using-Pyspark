{
 "cells": [
  {
   "cell_type": "code",
   "execution_count": 1,
   "metadata": {},
   "outputs": [],
   "source": [
    "import numpy as np # linear algebra\n",
    "import pandas as pd # data processing, CSV file I/O (e.g. pd.read_csv)\n",
    "import matplotlib.pyplot as plt\n",
    "import seaborn as sns\n",
    "from sklearn.model_selection import train_test_split\n",
    "from sklearn.ensemble import RandomForestClassifier\n",
    "import math\n",
    "from sklearn import metrics"
   ]
  },
  {
   "cell_type": "code",
   "execution_count": 2,
   "metadata": {},
   "outputs": [
    {
     "name": "stdout",
     "output_type": "stream",
     "text": [
      "        Diabetes_012  HighBP  HighChol  CholCheck   BMI  Smoker  Stroke  \\\n",
      "0                0.0     1.0       1.0        1.0  40.0     1.0     0.0   \n",
      "1                0.0     0.0       0.0        0.0  25.0     1.0     0.0   \n",
      "2                0.0     1.0       1.0        1.0  28.0     0.0     0.0   \n",
      "3                0.0     1.0       0.0        1.0  27.0     0.0     0.0   \n",
      "4                0.0     1.0       1.0        1.0  24.0     0.0     0.0   \n",
      "...              ...     ...       ...        ...   ...     ...     ...   \n",
      "253675           0.0     1.0       1.0        1.0  45.0     0.0     0.0   \n",
      "253676           2.0     1.0       1.0        1.0  18.0     0.0     0.0   \n",
      "253677           0.0     0.0       0.0        1.0  28.0     0.0     0.0   \n",
      "253678           0.0     1.0       0.0        1.0  23.0     0.0     0.0   \n",
      "253679           2.0     1.0       1.0        1.0  25.0     0.0     0.0   \n",
      "\n",
      "        HeartDiseaseorAttack  PhysActivity  Fruits  ...  AnyHealthcare  \\\n",
      "0                        0.0           0.0     0.0  ...            1.0   \n",
      "1                        0.0           1.0     0.0  ...            0.0   \n",
      "2                        0.0           0.0     1.0  ...            1.0   \n",
      "3                        0.0           1.0     1.0  ...            1.0   \n",
      "4                        0.0           1.0     1.0  ...            1.0   \n",
      "...                      ...           ...     ...  ...            ...   \n",
      "253675                   0.0           0.0     1.0  ...            1.0   \n",
      "253676                   0.0           0.0     0.0  ...            1.0   \n",
      "253677                   0.0           1.0     1.0  ...            1.0   \n",
      "253678                   0.0           0.0     1.0  ...            1.0   \n",
      "253679                   1.0           1.0     1.0  ...            1.0   \n",
      "\n",
      "        NoDocbcCost  GenHlth  MentHlth  PhysHlth  DiffWalk  Sex   Age  \\\n",
      "0               0.0      5.0      18.0      15.0       1.0  0.0   9.0   \n",
      "1               1.0      3.0       0.0       0.0       0.0  0.0   7.0   \n",
      "2               1.0      5.0      30.0      30.0       1.0  0.0   9.0   \n",
      "3               0.0      2.0       0.0       0.0       0.0  0.0  11.0   \n",
      "4               0.0      2.0       3.0       0.0       0.0  0.0  11.0   \n",
      "...             ...      ...       ...       ...       ...  ...   ...   \n",
      "253675          0.0      3.0       0.0       5.0       0.0  1.0   5.0   \n",
      "253676          0.0      4.0       0.0       0.0       1.0  0.0  11.0   \n",
      "253677          0.0      1.0       0.0       0.0       0.0  0.0   2.0   \n",
      "253678          0.0      3.0       0.0       0.0       0.0  1.0   7.0   \n",
      "253679          0.0      2.0       0.0       0.0       0.0  0.0   9.0   \n",
      "\n",
      "        Education  Income  \n",
      "0             4.0     3.0  \n",
      "1             6.0     1.0  \n",
      "2             4.0     8.0  \n",
      "3             3.0     6.0  \n",
      "4             5.0     4.0  \n",
      "...           ...     ...  \n",
      "253675        6.0     7.0  \n",
      "253676        2.0     4.0  \n",
      "253677        5.0     2.0  \n",
      "253678        5.0     1.0  \n",
      "253679        6.0     2.0  \n",
      "\n",
      "[253680 rows x 22 columns]\n"
     ]
    }
   ],
   "source": [
    "data = pd.read_csv('diabetes_health_indicators.csv')\n",
    "print(data)\n"
   ]
  },
  {
   "cell_type": "code",
   "execution_count": 7,
   "metadata": {},
   "outputs": [
    {
     "data": {
      "text/html": [
       "<div>\n",
       "<style scoped>\n",
       "    .dataframe tbody tr th:only-of-type {\n",
       "        vertical-align: middle;\n",
       "    }\n",
       "\n",
       "    .dataframe tbody tr th {\n",
       "        vertical-align: top;\n",
       "    }\n",
       "\n",
       "    .dataframe thead th {\n",
       "        text-align: right;\n",
       "    }\n",
       "</style>\n",
       "<table border=\"1\" class=\"dataframe\">\n",
       "  <thead>\n",
       "    <tr style=\"text-align: right;\">\n",
       "      <th></th>\n",
       "      <th>HighBP</th>\n",
       "      <th>HighChol</th>\n",
       "      <th>CholCheck</th>\n",
       "      <th>BMI</th>\n",
       "      <th>Smoker</th>\n",
       "      <th>Stroke</th>\n",
       "      <th>HeartDiseaseorAttack</th>\n",
       "      <th>PhysActivity</th>\n",
       "      <th>Fruits</th>\n",
       "      <th>Veggies</th>\n",
       "      <th>...</th>\n",
       "      <th>AnyHealthcare</th>\n",
       "      <th>NoDocbcCost</th>\n",
       "      <th>GenHlth</th>\n",
       "      <th>MentHlth</th>\n",
       "      <th>PhysHlth</th>\n",
       "      <th>DiffWalk</th>\n",
       "      <th>Sex</th>\n",
       "      <th>Age</th>\n",
       "      <th>Education</th>\n",
       "      <th>Income</th>\n",
       "    </tr>\n",
       "    <tr>\n",
       "      <th>Diabetes_012</th>\n",
       "      <th></th>\n",
       "      <th></th>\n",
       "      <th></th>\n",
       "      <th></th>\n",
       "      <th></th>\n",
       "      <th></th>\n",
       "      <th></th>\n",
       "      <th></th>\n",
       "      <th></th>\n",
       "      <th></th>\n",
       "      <th></th>\n",
       "      <th></th>\n",
       "      <th></th>\n",
       "      <th></th>\n",
       "      <th></th>\n",
       "      <th></th>\n",
       "      <th></th>\n",
       "      <th></th>\n",
       "      <th></th>\n",
       "      <th></th>\n",
       "      <th></th>\n",
       "    </tr>\n",
       "  </thead>\n",
       "  <tbody>\n",
       "    <tr>\n",
       "      <th>0.0</th>\n",
       "      <td>213703</td>\n",
       "      <td>213703</td>\n",
       "      <td>213703</td>\n",
       "      <td>213703</td>\n",
       "      <td>213703</td>\n",
       "      <td>213703</td>\n",
       "      <td>213703</td>\n",
       "      <td>213703</td>\n",
       "      <td>213703</td>\n",
       "      <td>213703</td>\n",
       "      <td>...</td>\n",
       "      <td>213703</td>\n",
       "      <td>213703</td>\n",
       "      <td>213703</td>\n",
       "      <td>213703</td>\n",
       "      <td>213703</td>\n",
       "      <td>213703</td>\n",
       "      <td>213703</td>\n",
       "      <td>213703</td>\n",
       "      <td>213703</td>\n",
       "      <td>213703</td>\n",
       "    </tr>\n",
       "    <tr>\n",
       "      <th>1.0</th>\n",
       "      <td>4631</td>\n",
       "      <td>4631</td>\n",
       "      <td>4631</td>\n",
       "      <td>4631</td>\n",
       "      <td>4631</td>\n",
       "      <td>4631</td>\n",
       "      <td>4631</td>\n",
       "      <td>4631</td>\n",
       "      <td>4631</td>\n",
       "      <td>4631</td>\n",
       "      <td>...</td>\n",
       "      <td>4631</td>\n",
       "      <td>4631</td>\n",
       "      <td>4631</td>\n",
       "      <td>4631</td>\n",
       "      <td>4631</td>\n",
       "      <td>4631</td>\n",
       "      <td>4631</td>\n",
       "      <td>4631</td>\n",
       "      <td>4631</td>\n",
       "      <td>4631</td>\n",
       "    </tr>\n",
       "    <tr>\n",
       "      <th>2.0</th>\n",
       "      <td>35346</td>\n",
       "      <td>35346</td>\n",
       "      <td>35346</td>\n",
       "      <td>35346</td>\n",
       "      <td>35346</td>\n",
       "      <td>35346</td>\n",
       "      <td>35346</td>\n",
       "      <td>35346</td>\n",
       "      <td>35346</td>\n",
       "      <td>35346</td>\n",
       "      <td>...</td>\n",
       "      <td>35346</td>\n",
       "      <td>35346</td>\n",
       "      <td>35346</td>\n",
       "      <td>35346</td>\n",
       "      <td>35346</td>\n",
       "      <td>35346</td>\n",
       "      <td>35346</td>\n",
       "      <td>35346</td>\n",
       "      <td>35346</td>\n",
       "      <td>35346</td>\n",
       "    </tr>\n",
       "  </tbody>\n",
       "</table>\n",
       "<p>3 rows × 21 columns</p>\n",
       "</div>"
      ],
      "text/plain": [
       "              HighBP  HighChol  CholCheck     BMI  Smoker  Stroke  \\\n",
       "Diabetes_012                                                        \n",
       "0.0           213703    213703     213703  213703  213703  213703   \n",
       "1.0             4631      4631       4631    4631    4631    4631   \n",
       "2.0            35346     35346      35346   35346   35346   35346   \n",
       "\n",
       "              HeartDiseaseorAttack  PhysActivity  Fruits  Veggies  ...  \\\n",
       "Diabetes_012                                                       ...   \n",
       "0.0                         213703        213703  213703   213703  ...   \n",
       "1.0                           4631          4631    4631     4631  ...   \n",
       "2.0                          35346         35346   35346    35346  ...   \n",
       "\n",
       "              AnyHealthcare  NoDocbcCost  GenHlth  MentHlth  PhysHlth  \\\n",
       "Diabetes_012                                                            \n",
       "0.0                  213703       213703   213703    213703    213703   \n",
       "1.0                    4631         4631     4631      4631      4631   \n",
       "2.0                   35346        35346    35346     35346     35346   \n",
       "\n",
       "              DiffWalk     Sex     Age  Education  Income  \n",
       "Diabetes_012                                               \n",
       "0.0             213703  213703  213703     213703  213703  \n",
       "1.0               4631    4631    4631       4631    4631  \n",
       "2.0              35346   35346   35346      35346   35346  \n",
       "\n",
       "[3 rows x 21 columns]"
      ]
     },
     "execution_count": 7,
     "metadata": {},
     "output_type": "execute_result"
    }
   ],
   "source": [
    "data.groupby('Diabetes_012').count()"
   ]
  },
  {
   "cell_type": "code",
   "execution_count": 13,
   "metadata": {},
   "outputs": [
    {
     "data": {
      "text/html": [
       "<div>\n",
       "<style scoped>\n",
       "    .dataframe tbody tr th:only-of-type {\n",
       "        vertical-align: middle;\n",
       "    }\n",
       "\n",
       "    .dataframe tbody tr th {\n",
       "        vertical-align: top;\n",
       "    }\n",
       "\n",
       "    .dataframe thead th {\n",
       "        text-align: right;\n",
       "    }\n",
       "</style>\n",
       "<table border=\"1\" class=\"dataframe\">\n",
       "  <thead>\n",
       "    <tr style=\"text-align: right;\">\n",
       "      <th></th>\n",
       "      <th></th>\n",
       "      <th>HighChol</th>\n",
       "      <th>CholCheck</th>\n",
       "      <th>BMI</th>\n",
       "      <th>Smoker</th>\n",
       "      <th>Stroke</th>\n",
       "      <th>HeartDiseaseorAttack</th>\n",
       "      <th>PhysActivity</th>\n",
       "      <th>Fruits</th>\n",
       "      <th>Veggies</th>\n",
       "      <th>HvyAlcoholConsump</th>\n",
       "      <th>AnyHealthcare</th>\n",
       "      <th>NoDocbcCost</th>\n",
       "      <th>GenHlth</th>\n",
       "      <th>MentHlth</th>\n",
       "      <th>PhysHlth</th>\n",
       "      <th>DiffWalk</th>\n",
       "      <th>Sex</th>\n",
       "      <th>Age</th>\n",
       "      <th>Education</th>\n",
       "      <th>Income</th>\n",
       "    </tr>\n",
       "    <tr>\n",
       "      <th>Diabetes_012</th>\n",
       "      <th>HighBP</th>\n",
       "      <th></th>\n",
       "      <th></th>\n",
       "      <th></th>\n",
       "      <th></th>\n",
       "      <th></th>\n",
       "      <th></th>\n",
       "      <th></th>\n",
       "      <th></th>\n",
       "      <th></th>\n",
       "      <th></th>\n",
       "      <th></th>\n",
       "      <th></th>\n",
       "      <th></th>\n",
       "      <th></th>\n",
       "      <th></th>\n",
       "      <th></th>\n",
       "      <th></th>\n",
       "      <th></th>\n",
       "      <th></th>\n",
       "      <th></th>\n",
       "    </tr>\n",
       "  </thead>\n",
       "  <tbody>\n",
       "    <tr>\n",
       "      <th rowspan=\"2\" valign=\"top\">0.0</th>\n",
       "      <th>0.0</th>\n",
       "      <td>134391</td>\n",
       "      <td>134391</td>\n",
       "      <td>134391</td>\n",
       "      <td>134391</td>\n",
       "      <td>134391</td>\n",
       "      <td>134391</td>\n",
       "      <td>134391</td>\n",
       "      <td>134391</td>\n",
       "      <td>134391</td>\n",
       "      <td>134391</td>\n",
       "      <td>134391</td>\n",
       "      <td>134391</td>\n",
       "      <td>134391</td>\n",
       "      <td>134391</td>\n",
       "      <td>134391</td>\n",
       "      <td>134391</td>\n",
       "      <td>134391</td>\n",
       "      <td>134391</td>\n",
       "      <td>134391</td>\n",
       "      <td>134391</td>\n",
       "    </tr>\n",
       "    <tr>\n",
       "      <th>1.0</th>\n",
       "      <td>79312</td>\n",
       "      <td>79312</td>\n",
       "      <td>79312</td>\n",
       "      <td>79312</td>\n",
       "      <td>79312</td>\n",
       "      <td>79312</td>\n",
       "      <td>79312</td>\n",
       "      <td>79312</td>\n",
       "      <td>79312</td>\n",
       "      <td>79312</td>\n",
       "      <td>79312</td>\n",
       "      <td>79312</td>\n",
       "      <td>79312</td>\n",
       "      <td>79312</td>\n",
       "      <td>79312</td>\n",
       "      <td>79312</td>\n",
       "      <td>79312</td>\n",
       "      <td>79312</td>\n",
       "      <td>79312</td>\n",
       "      <td>79312</td>\n",
       "    </tr>\n",
       "    <tr>\n",
       "      <th rowspan=\"2\" valign=\"top\">1.0</th>\n",
       "      <th>0.0</th>\n",
       "      <td>1718</td>\n",
       "      <td>1718</td>\n",
       "      <td>1718</td>\n",
       "      <td>1718</td>\n",
       "      <td>1718</td>\n",
       "      <td>1718</td>\n",
       "      <td>1718</td>\n",
       "      <td>1718</td>\n",
       "      <td>1718</td>\n",
       "      <td>1718</td>\n",
       "      <td>1718</td>\n",
       "      <td>1718</td>\n",
       "      <td>1718</td>\n",
       "      <td>1718</td>\n",
       "      <td>1718</td>\n",
       "      <td>1718</td>\n",
       "      <td>1718</td>\n",
       "      <td>1718</td>\n",
       "      <td>1718</td>\n",
       "      <td>1718</td>\n",
       "    </tr>\n",
       "    <tr>\n",
       "      <th>1.0</th>\n",
       "      <td>2913</td>\n",
       "      <td>2913</td>\n",
       "      <td>2913</td>\n",
       "      <td>2913</td>\n",
       "      <td>2913</td>\n",
       "      <td>2913</td>\n",
       "      <td>2913</td>\n",
       "      <td>2913</td>\n",
       "      <td>2913</td>\n",
       "      <td>2913</td>\n",
       "      <td>2913</td>\n",
       "      <td>2913</td>\n",
       "      <td>2913</td>\n",
       "      <td>2913</td>\n",
       "      <td>2913</td>\n",
       "      <td>2913</td>\n",
       "      <td>2913</td>\n",
       "      <td>2913</td>\n",
       "      <td>2913</td>\n",
       "      <td>2913</td>\n",
       "    </tr>\n",
       "    <tr>\n",
       "      <th rowspan=\"2\" valign=\"top\">2.0</th>\n",
       "      <th>0.0</th>\n",
       "      <td>8742</td>\n",
       "      <td>8742</td>\n",
       "      <td>8742</td>\n",
       "      <td>8742</td>\n",
       "      <td>8742</td>\n",
       "      <td>8742</td>\n",
       "      <td>8742</td>\n",
       "      <td>8742</td>\n",
       "      <td>8742</td>\n",
       "      <td>8742</td>\n",
       "      <td>8742</td>\n",
       "      <td>8742</td>\n",
       "      <td>8742</td>\n",
       "      <td>8742</td>\n",
       "      <td>8742</td>\n",
       "      <td>8742</td>\n",
       "      <td>8742</td>\n",
       "      <td>8742</td>\n",
       "      <td>8742</td>\n",
       "      <td>8742</td>\n",
       "    </tr>\n",
       "    <tr>\n",
       "      <th>1.0</th>\n",
       "      <td>26604</td>\n",
       "      <td>26604</td>\n",
       "      <td>26604</td>\n",
       "      <td>26604</td>\n",
       "      <td>26604</td>\n",
       "      <td>26604</td>\n",
       "      <td>26604</td>\n",
       "      <td>26604</td>\n",
       "      <td>26604</td>\n",
       "      <td>26604</td>\n",
       "      <td>26604</td>\n",
       "      <td>26604</td>\n",
       "      <td>26604</td>\n",
       "      <td>26604</td>\n",
       "      <td>26604</td>\n",
       "      <td>26604</td>\n",
       "      <td>26604</td>\n",
       "      <td>26604</td>\n",
       "      <td>26604</td>\n",
       "      <td>26604</td>\n",
       "    </tr>\n",
       "  </tbody>\n",
       "</table>\n",
       "</div>"
      ],
      "text/plain": [
       "                     HighChol  CholCheck     BMI  Smoker  Stroke  \\\n",
       "Diabetes_012 HighBP                                                \n",
       "0.0          0.0       134391     134391  134391  134391  134391   \n",
       "             1.0        79312      79312   79312   79312   79312   \n",
       "1.0          0.0         1718       1718    1718    1718    1718   \n",
       "             1.0         2913       2913    2913    2913    2913   \n",
       "2.0          0.0         8742       8742    8742    8742    8742   \n",
       "             1.0        26604      26604   26604   26604   26604   \n",
       "\n",
       "                     HeartDiseaseorAttack  PhysActivity  Fruits  Veggies  \\\n",
       "Diabetes_012 HighBP                                                        \n",
       "0.0          0.0                   134391        134391  134391   134391   \n",
       "             1.0                    79312         79312   79312    79312   \n",
       "1.0          0.0                     1718          1718    1718     1718   \n",
       "             1.0                     2913          2913    2913     2913   \n",
       "2.0          0.0                     8742          8742    8742     8742   \n",
       "             1.0                    26604         26604   26604    26604   \n",
       "\n",
       "                     HvyAlcoholConsump  AnyHealthcare  NoDocbcCost  GenHlth  \\\n",
       "Diabetes_012 HighBP                                                           \n",
       "0.0          0.0                134391         134391       134391   134391   \n",
       "             1.0                 79312          79312        79312    79312   \n",
       "1.0          0.0                  1718           1718         1718     1718   \n",
       "             1.0                  2913           2913         2913     2913   \n",
       "2.0          0.0                  8742           8742         8742     8742   \n",
       "             1.0                 26604          26604        26604    26604   \n",
       "\n",
       "                     MentHlth  PhysHlth  DiffWalk     Sex     Age  Education  \\\n",
       "Diabetes_012 HighBP                                                            \n",
       "0.0          0.0       134391    134391    134391  134391  134391     134391   \n",
       "             1.0        79312     79312     79312   79312   79312      79312   \n",
       "1.0          0.0         1718      1718      1718    1718    1718       1718   \n",
       "             1.0         2913      2913      2913    2913    2913       2913   \n",
       "2.0          0.0         8742      8742      8742    8742    8742       8742   \n",
       "             1.0        26604     26604     26604   26604   26604      26604   \n",
       "\n",
       "                     Income  \n",
       "Diabetes_012 HighBP          \n",
       "0.0          0.0     134391  \n",
       "             1.0      79312  \n",
       "1.0          0.0       1718  \n",
       "             1.0       2913  \n",
       "2.0          0.0       8742  \n",
       "             1.0      26604  "
      ]
     },
     "execution_count": 13,
     "metadata": {},
     "output_type": "execute_result"
    }
   ],
   "source": [
    "data.groupby(['Diabetes_012','HighBP']).count()"
   ]
  },
  {
   "cell_type": "code",
   "execution_count": 14,
   "metadata": {},
   "outputs": [],
   "source": [
    "split_data = data.groupby('Diabetes_012')\n",
    "d1 = split_data.get_group(1)\n",
    "c1 = d1.groupby('Age').Diabetes_012.count()\n",
    "l1 = list(c1.index)\n",
    "l21 = c1.values.tolist()"
   ]
  },
  {
   "cell_type": "code",
   "execution_count": 5,
   "metadata": {},
   "outputs": [],
   "source": [
    "split_data = data.groupby('Diabetes_012')\n",
    "d1 = split_data.get_group(1)\n",
    "c1 = d1.groupby('Age').Diabetes_012.count()\n",
    "l1 = list(c1.index)\n",
    "l21 = c1.values.tolist()\n",
    "d3 = split_data.get_group(2)\n",
    "c3= d3.groupby('Age').Diabetes_012.count()\n",
    "l3 = list(c3.index)\n",
    "l31 = c3.values.tolist()\n",
    "d2 = split_data.get_group(0)\n",
    "c2 = d2.groupby('Age').Diabetes_012.count()\n",
    "l = list(c2.index)\n",
    "l2 = c2.values.tolist()\n",
    "print(len(l))\n",
    "print(len(l2))\n",
    "print(len(l3))\n",
    "\n",
    "\n",
    "plt.plot(l, l2, label=\"0\")\n",
    "plt.plot(l1, l21, label=\"1\")\n",
    "plt.plot(l1, l31, label=\"2\")\n",
    "\n",
    "plt.legend()\n",
    "plt.xlabel('Age')\n",
    "plt.ylabel('number of individuals')\n"
   ]
  },
  {
   "cell_type": "code",
   "execution_count": 6,
   "metadata": {},
   "outputs": [
    {
     "name": "stdout",
     "output_type": "stream",
     "text": [
      "13\n",
      "13\n",
      "13\n"
     ]
    },
    {
     "data": {
      "text/plain": [
       "Text(0, 0.5, 'number of individuals')"
      ]
     },
     "execution_count": 6,
     "metadata": {},
     "output_type": "execute_result"
    },
    {
     "data": {
      "image/png": "[encoded data removed]",
      "text/plain": [
       "<Figure size 432x288 with 1 Axes>"
      ]
     },
     "metadata": {
      "needs_background": "light"
     },
     "output_type": "display_data"
    }
   ],
   "source": [
    "d2 = split_data.get_group(0)\n",
    "c2 = d2.groupby('Age').Diabetes_012.count()\n",
    "l = list(c2.index)\n",
    "l2 = c2.values.tolist()\n",
    "print(len(l))\n",
    "print(len(l2))\n",
    "print(len(l3))\n",
    "\n",
    "\n",
    "plt.plot(l, l2, label=\"0\")\n",
    "plt.plot(l1, l21, label=\"1\")\n",
    "plt.plot(l1, l31, label=\"2\")\n",
    "\n",
    "plt.legend()\n",
    "plt.xlabel('Age')\n",
    "plt.ylabel('number of individuals')"
   ]
  },
  {
   "cell_type": "code",
   "execution_count": 7,
   "metadata": {},
   "outputs": [
    {
     "name": "stderr",
     "output_type": "stream",
     "text": [
      "c:\\Users\\Amine\\anaconda3\\lib\\site-packages\\seaborn\\_decorators.py:36: FutureWarning: Pass the following variable as a keyword arg: x. From version 0.12, the only valid positional argument will be `data`, and passing other arguments without an explicit keyword will result in an error or misinterpretation.\n",
      "  warnings.warn(\n"
     ]
    },
    {
     "data": {
      "image/png": "[encoded data removed]",
      "text/plain": [
       "<Figure size 576x432 with 1 Axes>"
      ]
     },
     "metadata": {
      "needs_background": "light"
     },
     "output_type": "display_data"
    }
   ],
   "source": [
    "#visualize diabetes status\n",
    "plt.figure(figsize = (8,6))\n",
    "sns.countplot(data['Diabetes_012'])\n",
    "plt.title(\"Diabetes Status\")\n",
    "plt.show()"
   ]
  },
  {
   "cell_type": "code",
   "execution_count": 17,
   "metadata": {},
   "outputs": [
    {
     "name": "stdout",
     "output_type": "stream",
     "text": [
      "   Diabetes_012  HighBP   Count\n",
      "0           0.0     0.0  134391\n",
      "1           0.0     1.0   79312\n",
      "2           1.0     0.0    1718\n",
      "3           1.0     1.0    2913\n",
      "4           2.0     0.0    8742\n",
      "5           2.0     1.0   26604\n"
     ]
    }
   ],
   "source": [
    "#group diabetes status & BP\n",
    "diabetes_bp = data.groupby(['Diabetes_012','HighBP']).count()\n",
    "diabetes_bp = data.groupby(['Diabetes_012','HighBP']).size().reset_index(name='Count')\n",
    "print(diabetes_bp)"
   ]
  },
  {
   "cell_type": "code",
   "execution_count": 20,
   "metadata": {},
   "outputs": [
    {
     "ename": "ValueError",
     "evalue": "Could not interpret input 'Diabetes_02'",
     "output_type": "error",
     "traceback": [
      "\u001b[1;31m---------------------------------------------------------------------------\u001b[0m",
      "\u001b[1;31mValueError\u001b[0m                                Traceback (most recent call last)",
      "\u001b[1;32m<ipython-input-20-a2f9d1277b72>\u001b[0m in \u001b[0;36m<module>\u001b[1;34m\u001b[0m\n\u001b[0;32m      1\u001b[0m \u001b[1;31m#visualize diabetes status ~ BP\u001b[0m\u001b[1;33m\u001b[0m\u001b[1;33m\u001b[0m\u001b[1;33m\u001b[0m\u001b[0m\n\u001b[0;32m      2\u001b[0m \u001b[0mplt\u001b[0m\u001b[1;33m.\u001b[0m\u001b[0mfigure\u001b[0m\u001b[1;33m(\u001b[0m\u001b[0mfigsize\u001b[0m \u001b[1;33m=\u001b[0m \u001b[1;33m(\u001b[0m\u001b[1;36m8\u001b[0m\u001b[1;33m,\u001b[0m\u001b[1;36m6\u001b[0m\u001b[1;33m)\u001b[0m\u001b[1;33m)\u001b[0m\u001b[1;33m\u001b[0m\u001b[1;33m\u001b[0m\u001b[0m\n\u001b[1;32m----> 3\u001b[1;33m \u001b[0msns\u001b[0m\u001b[1;33m.\u001b[0m\u001b[0mbarplot\u001b[0m\u001b[1;33m(\u001b[0m\u001b[0mx\u001b[0m \u001b[1;33m=\u001b[0m\u001b[1;34m'Diabetes_02'\u001b[0m\u001b[1;33m,\u001b[0m \u001b[0my\u001b[0m \u001b[1;33m=\u001b[0m \u001b[1;34m'Count'\u001b[0m\u001b[1;33m,\u001b[0m \u001b[0mhue\u001b[0m \u001b[1;33m=\u001b[0m \u001b[1;34m'HighBP'\u001b[0m\u001b[1;33m,\u001b[0m \u001b[0mdata\u001b[0m \u001b[1;33m=\u001b[0m \u001b[0mdiabetes_bp\u001b[0m\u001b[1;33m,\u001b[0m \u001b[0mpalette\u001b[0m \u001b[1;33m=\u001b[0m \u001b[1;34m'Set1'\u001b[0m\u001b[1;33m)\u001b[0m\u001b[1;33m\u001b[0m\u001b[1;33m\u001b[0m\u001b[0m\n\u001b[0m\u001b[0;32m      4\u001b[0m \u001b[0mplt\u001b[0m\u001b[1;33m.\u001b[0m\u001b[0mtitle\u001b[0m\u001b[1;33m(\u001b[0m\u001b[1;34m\"Dibaetes Status ~ BP\"\u001b[0m\u001b[1;33m)\u001b[0m\u001b[1;33m\u001b[0m\u001b[1;33m\u001b[0m\u001b[0m\n\u001b[0;32m      5\u001b[0m \u001b[0mplt\u001b[0m\u001b[1;33m.\u001b[0m\u001b[0mshow\u001b[0m\u001b[1;33m(\u001b[0m\u001b[1;33m)\u001b[0m\u001b[1;33m\u001b[0m\u001b[1;33m\u001b[0m\u001b[0m\n",
      "\u001b[1;32mc:\\Users\\Amine\\anaconda3\\lib\\site-packages\\seaborn\\_decorators.py\u001b[0m in \u001b[0;36minner_f\u001b[1;34m(*args, **kwargs)\u001b[0m\n\u001b[0;32m     44\u001b[0m             )\n\u001b[0;32m     45\u001b[0m         \u001b[0mkwargs\u001b[0m\u001b[1;33m.\u001b[0m\u001b[0mupdate\u001b[0m\u001b[1;33m(\u001b[0m\u001b[1;33m{\u001b[0m\u001b[0mk\u001b[0m\u001b[1;33m:\u001b[0m \u001b[0marg\u001b[0m \u001b[1;32mfor\u001b[0m \u001b[0mk\u001b[0m\u001b[1;33m,\u001b[0m \u001b[0marg\u001b[0m \u001b[1;32min\u001b[0m \u001b[0mzip\u001b[0m\u001b[1;33m(\u001b[0m\u001b[0msig\u001b[0m\u001b[1;33m.\u001b[0m\u001b[0mparameters\u001b[0m\u001b[1;33m,\u001b[0m \u001b[0margs\u001b[0m\u001b[1;33m)\u001b[0m\u001b[1;33m}\u001b[0m\u001b[1;33m)\u001b[0m\u001b[1;33m\u001b[0m\u001b[1;33m\u001b[0m\u001b[0m\n\u001b[1;32m---> 46\u001b[1;33m         \u001b[1;32mreturn\u001b[0m \u001b[0mf\u001b[0m\u001b[1;33m(\u001b[0m\u001b[1;33m**\u001b[0m\u001b[0mkwargs\u001b[0m\u001b[1;33m)\u001b[0m\u001b[1;33m\u001b[0m\u001b[1;33m\u001b[0m\u001b[0m\n\u001b[0m\u001b[0;32m     47\u001b[0m     \u001b[1;32mreturn\u001b[0m \u001b[0minner_f\u001b[0m\u001b[1;33m\u001b[0m\u001b[1;33m\u001b[0m\u001b[0m\n\u001b[0;32m     48\u001b[0m \u001b[1;33m\u001b[0m\u001b[0m\n",
      "\u001b[1;32mc:\\Users\\Amine\\anaconda3\\lib\\site-packages\\seaborn\\categorical.py\u001b[0m in \u001b[0;36mbarplot\u001b[1;34m(x, y, hue, data, order, hue_order, estimator, ci, n_boot, units, seed, orient, color, palette, saturation, errcolor, errwidth, capsize, dodge, ax, **kwargs)\u001b[0m\n\u001b[0;32m   3167\u001b[0m ):\n\u001b[0;32m   3168\u001b[0m \u001b[1;33m\u001b[0m\u001b[0m\n\u001b[1;32m-> 3169\u001b[1;33m     plotter = _BarPlotter(x, y, hue, data, order, hue_order,\n\u001b[0m\u001b[0;32m   3170\u001b[0m                           \u001b[0mestimator\u001b[0m\u001b[1;33m,\u001b[0m \u001b[0mci\u001b[0m\u001b[1;33m,\u001b[0m \u001b[0mn_boot\u001b[0m\u001b[1;33m,\u001b[0m \u001b[0munits\u001b[0m\u001b[1;33m,\u001b[0m \u001b[0mseed\u001b[0m\u001b[1;33m,\u001b[0m\u001b[1;33m\u001b[0m\u001b[1;33m\u001b[0m\u001b[0m\n\u001b[0;32m   3171\u001b[0m                           \u001b[0morient\u001b[0m\u001b[1;33m,\u001b[0m \u001b[0mcolor\u001b[0m\u001b[1;33m,\u001b[0m \u001b[0mpalette\u001b[0m\u001b[1;33m,\u001b[0m \u001b[0msaturation\u001b[0m\u001b[1;33m,\u001b[0m\u001b[1;33m\u001b[0m\u001b[1;33m\u001b[0m\u001b[0m\n",
      "\u001b[1;32mc:\\Users\\Amine\\anaconda3\\lib\\site-packages\\seaborn\\categorical.py\u001b[0m in \u001b[0;36m__init__\u001b[1;34m(self, x, y, hue, data, order, hue_order, estimator, ci, n_boot, units, seed, orient, color, palette, saturation, errcolor, errwidth, capsize, dodge)\u001b[0m\n\u001b[0;32m   1582\u001b[0m                  errwidth, capsize, dodge):\n\u001b[0;32m   1583\u001b[0m         \u001b[1;34m\"\"\"Initialize the plotter.\"\"\"\u001b[0m\u001b[1;33m\u001b[0m\u001b[1;33m\u001b[0m\u001b[0m\n\u001b[1;32m-> 1584\u001b[1;33m         self.establish_variables(x, y, hue, data, orient,\n\u001b[0m\u001b[0;32m   1585\u001b[0m                                  order, hue_order, units)\n\u001b[0;32m   1586\u001b[0m         \u001b[0mself\u001b[0m\u001b[1;33m.\u001b[0m\u001b[0mestablish_colors\u001b[0m\u001b[1;33m(\u001b[0m\u001b[0mcolor\u001b[0m\u001b[1;33m,\u001b[0m \u001b[0mpalette\u001b[0m\u001b[1;33m,\u001b[0m \u001b[0msaturation\u001b[0m\u001b[1;33m)\u001b[0m\u001b[1;33m\u001b[0m\u001b[1;33m\u001b[0m\u001b[0m\n",
      "\u001b[1;32mc:\\Users\\Amine\\anaconda3\\lib\\site-packages\\seaborn\\categorical.py\u001b[0m in \u001b[0;36mestablish_variables\u001b[1;34m(self, x, y, hue, data, orient, order, hue_order, units)\u001b[0m\n\u001b[0;32m    151\u001b[0m                 \u001b[1;32mif\u001b[0m \u001b[0misinstance\u001b[0m\u001b[1;33m(\u001b[0m\u001b[0mvar\u001b[0m\u001b[1;33m,\u001b[0m \u001b[0mstr\u001b[0m\u001b[1;33m)\u001b[0m\u001b[1;33m:\u001b[0m\u001b[1;33m\u001b[0m\u001b[1;33m\u001b[0m\u001b[0m\n\u001b[0;32m    152\u001b[0m                     \u001b[0merr\u001b[0m \u001b[1;33m=\u001b[0m \u001b[1;34m\"Could not interpret input '{}'\"\u001b[0m\u001b[1;33m.\u001b[0m\u001b[0mformat\u001b[0m\u001b[1;33m(\u001b[0m\u001b[0mvar\u001b[0m\u001b[1;33m)\u001b[0m\u001b[1;33m\u001b[0m\u001b[1;33m\u001b[0m\u001b[0m\n\u001b[1;32m--> 153\u001b[1;33m                     \u001b[1;32mraise\u001b[0m \u001b[0mValueError\u001b[0m\u001b[1;33m(\u001b[0m\u001b[0merr\u001b[0m\u001b[1;33m)\u001b[0m\u001b[1;33m\u001b[0m\u001b[1;33m\u001b[0m\u001b[0m\n\u001b[0m\u001b[0;32m    154\u001b[0m \u001b[1;33m\u001b[0m\u001b[0m\n\u001b[0;32m    155\u001b[0m             \u001b[1;31m# Figure out the plotting orientation\u001b[0m\u001b[1;33m\u001b[0m\u001b[1;33m\u001b[0m\u001b[1;33m\u001b[0m\u001b[0m\n",
      "\u001b[1;31mValueError\u001b[0m: Could not interpret input 'Diabetes_02'"
     ]
    },
    {
     "data": {
      "text/plain": [
       "<Figure size 576x432 with 0 Axes>"
      ]
     },
     "metadata": {},
     "output_type": "display_data"
    }
   ],
   "source": [
    "#visualize diabetes status ~ BP\n",
    "plt.figure(figsize = (8,6))\n",
    "sns.barplot(x ='Diabetes_02', y = 'Count', hue = 'HighBP', data = diabetes_bp, palette = 'Set1')\n",
    "plt.title(\"Dibaetes Status ~ BP\")\n",
    "plt.show()"
   ]
  },
  {
   "cell_type": "code",
   "execution_count": null,
   "metadata": {},
   "outputs": [],
   "source": [
    "#group diabetes status & cholesterol check\n",
    "diabetes_check = data.groupby(['Diabetes_binary', 'CholCheck']).size().reset_index(name = 'Count')\n",
    "print(diabetes_check)"
   ]
  },
  {
   "cell_type": "markdown",
   "metadata": {},
   "source": [
    "diabetes Mental Health  "
   ]
  },
  {
   "cell_type": "code",
   "execution_count": 25,
   "metadata": {},
   "outputs": [],
   "source": [
    "data1 = pd.read_csv('trans1diabetes.csv')"
   ]
  },
  {
   "cell_type": "code",
   "execution_count": 26,
   "metadata": {},
   "outputs": [
    {
     "name": "stderr",
     "output_type": "stream",
     "text": [
      "<ipython-input-26-94e80f448171>:1: SettingWithCopyWarning: \n",
      "A value is trying to be set on a copy of a slice from a DataFrame\n",
      "\n",
      "See the caveats in the documentation: https://pandas.pydata.org/pandas-docs/stable/user_guide/indexing.html#returning-a-view-versus-a-copy\n",
      "  data1.MentHlth[data1['MentHlth'] == 20.0] = 'Excelent'\n"
     ]
    }
   ],
   "source": [
    "data1.MentHlth[data1['MentHlth'] == 20.0] = 'Excelent'"
   ]
  },
  {
   "cell_type": "code",
   "execution_count": 27,
   "metadata": {},
   "outputs": [],
   "source": [
    "data1.to_csv('trans2diabetes.csv')"
   ]
  },
  {
   "cell_type": "code",
   "execution_count": 28,
   "metadata": {},
   "outputs": [],
   "source": [
    "data2 = pd.read_csv('trans2diabetes.csv')"
   ]
  },
  {
   "cell_type": "code",
   "execution_count": 29,
   "metadata": {},
   "outputs": [
    {
     "name": "stdout",
     "output_type": "stream",
     "text": [
      "   Diabetes_012   MentHlth   Count\n",
      "0      Diabetes       20.0     663\n",
      "1      Diabetes   Excelent    3220\n",
      "2      Diabetes   Not good    1463\n",
      "3      Diabetes       Poor   28928\n",
      "4      Diabetes  very good    1072\n",
      "5   No Diabetes       20.0    2624\n",
      "6   No Diabetes   Excelent   10603\n",
      "7   No Diabetes   Not good    7082\n",
      "8   No Diabetes       Poor  188845\n",
      "9   No Diabetes  very good    4549\n",
      "10  PreDiabetes       20.0      77\n",
      "11  PreDiabetes   Excelent     423\n",
      "12  PreDiabetes   Not good     205\n",
      "13  PreDiabetes       Poor    3787\n",
      "14  PreDiabetes  very good     139\n"
     ]
    }
   ],
   "source": [
    "diabetes_Mental = data2.groupby(['Diabetes_012', 'MentHlth']).size().reset_index(name = 'Count')\n",
    "print(diabetes_Mental)"
   ]
  },
  {
   "cell_type": "code",
   "execution_count": 30,
   "metadata": {},
   "outputs": [
    {
     "data": {
      "text/html": [
       "<div>\n",
       "<style scoped>\n",
       "    .dataframe tbody tr th:only-of-type {\n",
       "        vertical-align: middle;\n",
       "    }\n",
       "\n",
       "    .dataframe tbody tr th {\n",
       "        vertical-align: top;\n",
       "    }\n",
       "\n",
       "    .dataframe thead th {\n",
       "        text-align: right;\n",
       "    }\n",
       "</style>\n",
       "<table border=\"1\" class=\"dataframe\">\n",
       "  <thead>\n",
       "    <tr style=\"text-align: right;\">\n",
       "      <th></th>\n",
       "      <th>Count</th>\n",
       "    </tr>\n",
       "    <tr>\n",
       "      <th>Diabetes_012</th>\n",
       "      <th></th>\n",
       "    </tr>\n",
       "  </thead>\n",
       "  <tbody>\n",
       "    <tr>\n",
       "      <th>Diabetes</th>\n",
       "      <td>35346</td>\n",
       "    </tr>\n",
       "    <tr>\n",
       "      <th>No Diabetes</th>\n",
       "      <td>213703</td>\n",
       "    </tr>\n",
       "    <tr>\n",
       "      <th>PreDiabetes</th>\n",
       "      <td>4631</td>\n",
       "    </tr>\n",
       "  </tbody>\n",
       "</table>\n",
       "</div>"
      ],
      "text/plain": [
       "               Count\n",
       "Diabetes_012        \n",
       "Diabetes       35346\n",
       "No Diabetes   213703\n",
       "PreDiabetes     4631"
      ]
     },
     "execution_count": 30,
     "metadata": {},
     "output_type": "execute_result"
    }
   ],
   "source": [
    "MentHlth = diabetes_Mental.groupby(['Diabetes_012']).sum()\n",
    "MentHlth"
   ]
  },
  {
   "cell_type": "code",
   "execution_count": 31,
   "metadata": {},
   "outputs": [],
   "source": [
    "Temp1 = diabetes_Mental.set_index('Diabetes_012').join(MentHlth,rsuffix='_')\n",
    "Temp1['Percentage'] = Temp1['Count']/Temp1['Count_']\n",
    "Temp1\n",
    "Temp1 = Temp1.reset_index()"
   ]
  },
  {
   "cell_type": "code",
   "execution_count": 32,
   "metadata": {},
   "outputs": [
    {
     "data": {
      "image/png": "[encoded data removed]",
      "text/plain": [
       "<Figure size 576x432 with 1 Axes>"
      ]
     },
     "metadata": {
      "needs_background": "light"
     },
     "output_type": "display_data"
    }
   ],
   "source": [
    "plt.figure(figsize = (8,6))\n",
    "sns.barplot(x = 'Diabetes_012', y = 'Percentage', hue = 'MentHlth', data = Temp1, palette = 'Set3')\n",
    "plt.title(\"Diabetes Status ~ Mental Health\")\n",
    "plt.show()"
   ]
  },
  {
   "cell_type": "markdown",
   "metadata": {},
   "source": [
    "Diabetes~BMI "
   ]
  },
  {
   "cell_type": "code",
   "execution_count": null,
   "metadata": {},
   "outputs": [],
   "source": []
  }
 ],
 "metadata": {
  "interpreter": {
   "hash": "7a7bc949ac09e1311def83ae0b9d9fa997b438448c6e4b9a59dc0c484a51e208"
  },
  "kernelspec": {
   "display_name": "Python 3.8.5 ('base')",
   "language": "python",
   "name": "python3"
  },
  "language_info": {
   "codemirror_mode": {
    "name": "ipython",
    "version": 3
   },
   "file_extension": ".py",
   "mimetype": "text/x-python",
   "name": "python",
   "nbconvert_exporter": "python",
   "pygments_lexer": "ipython3",
   "version": "3.8.5"
  },
  "orig_nbformat": 4
 },
 "nbformat": 4,
 "nbformat_minor": 2
}
